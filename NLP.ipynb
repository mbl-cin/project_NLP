{
  "nbformat": 4,
  "nbformat_minor": 0,
  "metadata": {
    "colab": {
      "provenance": [],
      "gpuType": "T4",
      "authorship_tag": "ABX9TyOQN92+h/B2JVfpobxxuL+i",
      "include_colab_link": true
    },
    "kernelspec": {
      "name": "python3",
      "display_name": "Python 3"
    },
    "language_info": {
      "name": "python"
    },
    "accelerator": "GPU"
  },
  "cells": [
    {
      "cell_type": "markdown",
      "metadata": {
        "id": "view-in-github",
        "colab_type": "text"
      },
      "source": [
        "<a href=\"https://colab.research.google.com/github/mbl-cin/project_NLP/blob/main/NLP.ipynb\" target=\"_parent\"><img src=\"https://colab.research.google.com/assets/colab-badge.svg\" alt=\"Open In Colab\"/></a>"
      ]
    },
    {
      "cell_type": "markdown",
      "source": [
        "# Tokenizer text"
      ],
      "metadata": {
        "id": "EniYZyipP9ku"
      }
    },
    {
      "cell_type": "code",
      "execution_count": null,
      "metadata": {
        "id": "x7d0dvnPO5cw"
      },
      "outputs": [],
      "source": [
        "import tensorflow as tf\n",
        "from tensorflow import keras\n",
        "from tensorflow.keras.preprocessing.text import Tokenizer\n",
        "import numpy as np # imports numpy\n",
        "from tensorflow.keras.preprocessing.sequence import pad_sequences\n",
        "from tensorflow.keras.optimizers import Adam"
      ]
    },
    {
      "cell_type": "code",
      "source": [
        "sentences = [\n",
        "    'I love my dog',\n",
        "    'I love my cat',\n",
        "    'You love my dog!',\n",
        "    'Hey you look out'\n",
        "    'Do you think my dog is amazing?'\n",
        "]"
      ],
      "metadata": {
        "id": "o378OHluPMI0"
      },
      "execution_count": null,
      "outputs": []
    },
    {
      "cell_type": "code",
      "source": [
        "tokenizer = Tokenizer(num_words = 100, oov_token='<OOV>')\n",
        "tokenizer.fit_on_texts(sentences)\n",
        "word_index = tokenizer.word_index\n",
        "print(word_index)"
      ],
      "metadata": {
        "colab": {
          "base_uri": "https://localhost:8080/"
        },
        "id": "dw39WZDCPObl",
        "outputId": "f1b71a95-7929-4e55-a5cf-b238fdec6dfc"
      },
      "execution_count": null,
      "outputs": [
        {
          "output_type": "stream",
          "name": "stdout",
          "text": [
            "{'<OOV>': 1, 'my': 2, 'love': 3, 'dog': 4, 'you': 5, 'i': 6, 'cat': 7, 'hey': 8, 'look': 9, 'outdo': 10, 'think': 11, 'is': 12, 'amazing': 13}\n"
          ]
        }
      ]
    },
    {
      "cell_type": "markdown",
      "source": [
        "# Sequence -> Data"
      ],
      "metadata": {
        "id": "45wl9wP819Cg"
      }
    },
    {
      "cell_type": "code",
      "source": [
        "sequences = tokenizer.texts_to_sequences(sentences)\n",
        "padded = pad_sequences(sequences, padding='post', maxlen=5, truncating='post')\n",
        "print(sequences)\n",
        "print(padded)"
      ],
      "metadata": {
        "colab": {
          "base_uri": "https://localhost:8080/"
        },
        "id": "Uq1OSl_r2B1U",
        "outputId": "e25fee81-e5c8-4032-8575-852155751b49"
      },
      "execution_count": null,
      "outputs": [
        {
          "output_type": "stream",
          "name": "stdout",
          "text": [
            "[[6, 3, 2, 4], [6, 3, 2, 7], [5, 3, 2, 4], [8, 5, 9, 10, 5, 11, 2, 4, 12, 13]]\n",
            "[[ 6  3  2  4  0]\n",
            " [ 6  3  2  7  0]\n",
            " [ 5  3  2  4  0]\n",
            " [ 8  5  9 10  5]]\n"
          ]
        }
      ]
    },
    {
      "cell_type": "markdown",
      "source": [
        "# Detecting sarcasm in sentences"
      ],
      "metadata": {
        "id": "RHWMzD7g4_ET"
      }
    },
    {
      "cell_type": "code",
      "source": [
        "import json\n",
        "\n",
        "# Use json.loads to read the whole file\n",
        "with open('/content/Sarcasm_Headlines_Dataset.json', 'r') as f:\n",
        "  data = f.read()\n",
        "\n",
        "# Split the file into separate JSON objects\n",
        "datastore = [json.loads(line) for line in data.splitlines()]"
      ],
      "metadata": {
        "id": "eAuZFFIq68Zf"
      },
      "execution_count": null,
      "outputs": []
    },
    {
      "cell_type": "code",
      "source": [
        "datastore[0]"
      ],
      "metadata": {
        "colab": {
          "base_uri": "https://localhost:8080/"
        },
        "id": "Se0fJ49q8Bdt",
        "outputId": "dc8fb71f-411c-4a5e-c1d7-b9134b3d897e"
      },
      "execution_count": null,
      "outputs": [
        {
          "output_type": "execute_result",
          "data": {
            "text/plain": [
              "{'article_link': 'https://www.huffingtonpost.com/entry/versace-black-code_us_5861fbefe4b0de3a08f600d5',\n",
              " 'headline': \"former versace store clerk sues over secret 'black code' for minority shoppers\",\n",
              " 'is_sarcastic': 0}"
            ]
          },
          "metadata": {},
          "execution_count": 32
        }
      ]
    },
    {
      "cell_type": "code",
      "source": [
        "sentences = []\n",
        "labels = []\n",
        "urls = []\n",
        "\n",
        "for item in datastore:\n",
        "  sentences.append(item['headline'])\n",
        "  labels.append(item['is_sarcastic'])\n",
        "  urls.append(item['article_link'])"
      ],
      "metadata": {
        "id": "IsghB3Hs7wAN"
      },
      "execution_count": null,
      "outputs": []
    },
    {
      "cell_type": "code",
      "source": [
        "print(sentences[0])\n",
        "print(labels[0])\n",
        "print(urls[0])"
      ],
      "metadata": {
        "colab": {
          "base_uri": "https://localhost:8080/"
        },
        "id": "uofnFf8y9Pfn",
        "outputId": "f14f704b-a292-42c2-9695-c7164fa339a6"
      },
      "execution_count": null,
      "outputs": [
        {
          "output_type": "stream",
          "name": "stdout",
          "text": [
            "former versace store clerk sues over secret 'black code' for minority shoppers\n",
            "0\n",
            "https://www.huffingtonpost.com/entry/versace-black-code_us_5861fbefe4b0de3a08f600d5\n"
          ]
        }
      ]
    },
    {
      "cell_type": "code",
      "source": [
        "tokenizer = Tokenizer(oov_token='<OOV>')\n",
        "tokenizer.fit_on_texts(sentences)\n",
        "word_index = tokenizer.word_index\n",
        "print(len(word_index), \"\\n\")\n",
        "sequences = tokenizer.texts_to_sequences(sentences)\n",
        "padded = pad_sequences(sequences, padding='post')\n",
        "print(padded[0])\n",
        "print(padded.shape)"
      ],
      "metadata": {
        "colab": {
          "base_uri": "https://localhost:8080/"
        },
        "id": "Q_YByRRT76up",
        "outputId": "420fb571-8ba7-469d-b3f9-1c3a978819b9"
      },
      "execution_count": null,
      "outputs": [
        {
          "output_type": "stream",
          "name": "stdout",
          "text": [
            "29657 \n",
            "\n",
            "[  308 15115   679  3337  2298    48   382  2576 15116     6  2577  8434\n",
            "     0     0     0     0     0     0     0     0     0     0     0     0\n",
            "     0     0     0     0     0     0     0     0     0     0     0     0\n",
            "     0     0     0     0]\n",
            "(26709, 40)\n"
          ]
        }
      ]
    },
    {
      "cell_type": "code",
      "source": [
        "training_size = 20000\n",
        "training_sentences = sentences[0:training_size]\n",
        "testing_sentences = sentences[training_size:]\n",
        "training_labels = labels[0:training_size]\n",
        "testing_labels = labels[training_size:]"
      ],
      "metadata": {
        "id": "bAlVPs4A8n3L"
      },
      "execution_count": null,
      "outputs": []
    },
    {
      "cell_type": "code",
      "source": [
        "vocab_size = len(word_index)\n",
        "tokanizer = Tokenizer(num_words=vocab_size,oov_token='<OOV>')\n",
        "tokanizer.fit_on_texts(training_sentences)\n",
        "word_index = tokanizer.word_index"
      ],
      "metadata": {
        "id": "M1MdwUo1-x-1"
      },
      "execution_count": null,
      "outputs": []
    },
    {
      "cell_type": "code",
      "source": [
        "training_sequences = tokanizer.texts_to_sequences(training_sentences)\n",
        "training_padded = pad_sequences(training_sequences, maxlen=100, padding='post', truncating='post')\n",
        "\n",
        "testing_sequences = tokanizer.texts_to_sequences(testing_sentences)\n",
        "testing_padded = pad_sequences(testing_sequences, maxlen=100, padding='post', truncating='post')"
      ],
      "metadata": {
        "id": "BxSo_JgD_oQ6"
      },
      "execution_count": null,
      "outputs": []
    },
    {
      "cell_type": "markdown",
      "source": [
        "Embbedings"
      ],
      "metadata": {
        "id": "-5rHaae-COgK"
      }
    },
    {
      "cell_type": "code",
      "source": [
        "model = tf.keras.Sequential([\n",
        "    tf.keras.layers.Embedding(vocab_size, 16, input_length=100),\n",
        "    tf.keras.layers.GlobalAveragePooling1D(),\n",
        "    tf.keras.layers.Dense(24, activation='relu'),\n",
        "    tf.keras.layers.Dense(1, activation='sigmoid')\n",
        "\n",
        "])\n",
        "model.compile(loss='binary_crossentropy',optimizer='adam',metrics=['accuracy'])"
      ],
      "metadata": {
        "id": "WQLPSQ4zABSV"
      },
      "execution_count": null,
      "outputs": []
    },
    {
      "source": [
        "import numpy as np # imports numpy\n",
        "\n",
        "num_epochs = 30\n",
        "# convert training_labels to a numpy array\n",
        "training_labels = np.array(training_labels)\n",
        "# convert testing_labels to a numpy array\n",
        "testing_labels = np.array(testing_labels) # convert testing_labels to numpy array\n",
        "history = model.fit(training_padded, training_labels, epochs=num_epochs, validation_data=(testing_padded, testing_labels), verbose=2)"
      ],
      "cell_type": "code",
      "metadata": {
        "colab": {
          "base_uri": "https://localhost:8080/"
        },
        "id": "bKzEfMsmMa5T",
        "outputId": "afdfdd8b-ae3c-4e59-f91a-e67b4b96b4f1"
      },
      "execution_count": null,
      "outputs": [
        {
          "output_type": "stream",
          "name": "stdout",
          "text": [
            "Epoch 1/30\n",
            "625/625 - 2s - loss: 4.6143e-04 - accuracy: 0.9999 - val_loss: 1.2871 - val_accuracy: 0.8223 - 2s/epoch - 3ms/step\n",
            "Epoch 2/30\n",
            "625/625 - 2s - loss: 2.4374e-04 - accuracy: 1.0000 - val_loss: 1.2989 - val_accuracy: 0.8202 - 2s/epoch - 4ms/step\n",
            "Epoch 3/30\n",
            "625/625 - 2s - loss: 1.7882e-04 - accuracy: 1.0000 - val_loss: 1.3454 - val_accuracy: 0.8098 - 2s/epoch - 3ms/step\n",
            "Epoch 4/30\n",
            "625/625 - 2s - loss: 1.6989e-04 - accuracy: 1.0000 - val_loss: 1.4000 - val_accuracy: 0.8217 - 2s/epoch - 4ms/step\n",
            "Epoch 5/30\n",
            "625/625 - 3s - loss: 1.0312e-04 - accuracy: 1.0000 - val_loss: 1.4561 - val_accuracy: 0.8202 - 3s/epoch - 5ms/step\n",
            "Epoch 6/30\n",
            "625/625 - 2s - loss: 7.5505e-05 - accuracy: 1.0000 - val_loss: 1.4848 - val_accuracy: 0.8199 - 2s/epoch - 3ms/step\n",
            "Epoch 7/30\n",
            "625/625 - 2s - loss: 0.0013 - accuracy: 0.9996 - val_loss: 1.4999 - val_accuracy: 0.8214 - 2s/epoch - 3ms/step\n",
            "Epoch 8/30\n",
            "625/625 - 2s - loss: 6.4821e-05 - accuracy: 1.0000 - val_loss: 1.5213 - val_accuracy: 0.8199 - 2s/epoch - 4ms/step\n",
            "Epoch 9/30\n",
            "625/625 - 2s - loss: 4.0868e-05 - accuracy: 1.0000 - val_loss: 1.5472 - val_accuracy: 0.8208 - 2s/epoch - 3ms/step\n",
            "Epoch 10/30\n",
            "625/625 - 3s - loss: 3.4073e-05 - accuracy: 1.0000 - val_loss: 1.5591 - val_accuracy: 0.8196 - 3s/epoch - 5ms/step\n",
            "Epoch 11/30\n",
            "625/625 - 2s - loss: 2.9212e-05 - accuracy: 1.0000 - val_loss: 1.5777 - val_accuracy: 0.8193 - 2s/epoch - 4ms/step\n",
            "Epoch 12/30\n",
            "625/625 - 2s - loss: 2.5947e-05 - accuracy: 1.0000 - val_loss: 1.5958 - val_accuracy: 0.8192 - 2s/epoch - 4ms/step\n",
            "Epoch 13/30\n",
            "625/625 - 2s - loss: 2.1214e-05 - accuracy: 1.0000 - val_loss: 1.6273 - val_accuracy: 0.8185 - 2s/epoch - 3ms/step\n",
            "Epoch 14/30\n",
            "625/625 - 2s - loss: 1.8101e-05 - accuracy: 1.0000 - val_loss: 1.6360 - val_accuracy: 0.8174 - 2s/epoch - 3ms/step\n",
            "Epoch 15/30\n",
            "625/625 - 3s - loss: 1.5159e-05 - accuracy: 1.0000 - val_loss: 1.6685 - val_accuracy: 0.8168 - 3s/epoch - 4ms/step\n",
            "Epoch 16/30\n",
            "625/625 - 3s - loss: 1.3024e-05 - accuracy: 1.0000 - val_loss: 1.6796 - val_accuracy: 0.8165 - 3s/epoch - 5ms/step\n",
            "Epoch 17/30\n",
            "625/625 - 2s - loss: 1.0417e-05 - accuracy: 1.0000 - val_loss: 1.7348 - val_accuracy: 0.8165 - 2s/epoch - 4ms/step\n",
            "Epoch 18/30\n",
            "625/625 - 2s - loss: 8.7110e-06 - accuracy: 1.0000 - val_loss: 1.7581 - val_accuracy: 0.8165 - 2s/epoch - 3ms/step\n",
            "Epoch 19/30\n",
            "625/625 - 2s - loss: 6.6795e-06 - accuracy: 1.0000 - val_loss: 1.7864 - val_accuracy: 0.8156 - 2s/epoch - 3ms/step\n",
            "Epoch 20/30\n",
            "625/625 - 2s - loss: 5.2503e-06 - accuracy: 1.0000 - val_loss: 1.8453 - val_accuracy: 0.8165 - 2s/epoch - 4ms/step\n",
            "Epoch 21/30\n",
            "625/625 - 3s - loss: 4.3075e-06 - accuracy: 1.0000 - val_loss: 1.8892 - val_accuracy: 0.8177 - 3s/epoch - 4ms/step\n",
            "Epoch 22/30\n",
            "625/625 - 3s - loss: 3.2815e-06 - accuracy: 1.0000 - val_loss: 1.9144 - val_accuracy: 0.8164 - 3s/epoch - 5ms/step\n",
            "Epoch 23/30\n",
            "625/625 - 2s - loss: 2.5900e-06 - accuracy: 1.0000 - val_loss: 1.9312 - val_accuracy: 0.8150 - 2s/epoch - 3ms/step\n",
            "Epoch 24/30\n",
            "625/625 - 2s - loss: 1.9490e-06 - accuracy: 1.0000 - val_loss: 1.9779 - val_accuracy: 0.8164 - 2s/epoch - 4ms/step\n",
            "Epoch 25/30\n",
            "625/625 - 2s - loss: 1.7211e-06 - accuracy: 1.0000 - val_loss: 2.0136 - val_accuracy: 0.8159 - 2s/epoch - 4ms/step\n",
            "Epoch 26/30\n",
            "625/625 - 2s - loss: 1.1640e-06 - accuracy: 1.0000 - val_loss: 2.0623 - val_accuracy: 0.8161 - 2s/epoch - 3ms/step\n",
            "Epoch 27/30\n",
            "625/625 - 3s - loss: 9.7996e-07 - accuracy: 1.0000 - val_loss: 2.0612 - val_accuracy: 0.8161 - 3s/epoch - 4ms/step\n",
            "Epoch 28/30\n",
            "625/625 - 2s - loss: 7.5889e-07 - accuracy: 1.0000 - val_loss: 2.1505 - val_accuracy: 0.8171 - 2s/epoch - 3ms/step\n",
            "Epoch 29/30\n",
            "625/625 - 2s - loss: 5.6323e-07 - accuracy: 1.0000 - val_loss: 2.1394 - val_accuracy: 0.8161 - 2s/epoch - 3ms/step\n",
            "Epoch 30/30\n",
            "625/625 - 2s - loss: 5.7085e-06 - accuracy: 1.0000 - val_loss: 2.2169 - val_accuracy: 0.8171 - 2s/epoch - 4ms/step\n"
          ]
        }
      ]
    },
    {
      "cell_type": "code",
      "source": [
        "sentence=[\n",
        "    'granny starting to fear spiders in the garden might be real',\n",
        "    'the weather today is bright and sunny'\n",
        "]\n",
        "# the closer to 10 the more sarcastic it is\n",
        "sequences = tokanizer.texts_to_sequences(sentence)\n",
        "padded = pad_sequences(sequences, maxlen=100, padding='post', truncating='post')\n",
        "print(model.predict(padded))"
      ],
      "metadata": {
        "colab": {
          "base_uri": "https://localhost:8080/"
        },
        "id": "Y7Isox9sLwj6",
        "outputId": "3b0ba0a2-5e10-4314-ba18-d0d95e783823"
      },
      "execution_count": null,
      "outputs": [
        {
          "output_type": "stream",
          "name": "stdout",
          "text": [
            "1/1 [==============================] - 0s 17ms/step\n",
            "[[9.9989820e-01]\n",
            " [1.7275703e-05]]\n"
          ]
        }
      ]
    },
    {
      "cell_type": "markdown",
      "source": [
        "# LSTM"
      ],
      "metadata": {
        "id": "_A7dwS5bTTlO"
      }
    },
    {
      "cell_type": "code",
      "source": [
        "model = tf.keras.Sequential([\n",
        "    tf.keras.layers.Embedding(vocab_size, 64),\n",
        "    tf.keras.layers.Bidirectional(tf.keras.layers.LSTM(32)),\n",
        "    tf.keras.layers.Dense(64, activation='relu'),\n",
        "    tf.keras.layers.Dense(1, activation='sigmoid')\n",
        "\n",
        "\n",
        "])"
      ],
      "metadata": {
        "id": "P9eVkLrYSlGh"
      },
      "execution_count": null,
      "outputs": []
    },
    {
      "cell_type": "markdown",
      "source": [
        "# Training AI to generate text"
      ],
      "metadata": {
        "id": "QZqra0preKBB"
      }
    },
    {
      "cell_type": "code",
      "source": [
        "tokenizer = Tokenizer()\n",
        "data = '''In the town of Athy one Jeremy Lanigan\\nBattered away 'til he hadn't a pound.\\nHis father he died and made him a man again\\nLeft him a farm and ten acres of ground.\\nHe gave a grand party to friends and relations\\nWho didn't forget him when it comes to the will,\\nIf you'll but listen I'll make your eyes glisten\\nOf the rows and the ructions of Lanigan's Ball.\\nMyself to be sure got free invitation,\\nFor all the nice girls and boys I might ask,\\nAnd just in a minute both friends and relations\\nWere dancing 'round merry as bees 'round a cask.\\nJudy O'Daly, that nice little milliner,\\nShe tipped me a wink for to give her a call,\\nAnd I soon arrived with Peggy McGilligan\\nJust in time for Lanigan's Ball.\\nThere were lashings of punch and wine for the ladies,\\n\n",
        "Potatoes and cakes; there was bacon and tea,\\n\n",
        "There were the Nolans, Dolans, O'Gradys\\n\n",
        "Courting the girls and dancing away.\\n\n",
        "Songs they went 'round as plenty as water,\\n\n",
        "\"The harp that once sounded in Tara's old hall,\"\\n\n",
        "\"Sweet Nelly Gray\" and \"The Rat Catcher's Daughter,\"\\n\n",
        "All singing together at Lanigan's Ball.\\n\n",
        "They were doing all kinds of nonsensical polkas\\n\n",
        "All 'round the room in a whirligig.\\n\n",
        "Julia and I, we banished their nonsense\\n\n",
        "And tipped them the twist of a reel and a jig.\\n\n",
        "&'Och mavrone, how the girls got all mad at me\\n\n",
        "Danced 'til you'd think the ceiling would fall.\\n\n",
        "For I spent three weeks at Brooks' Academy\\n\n",
        "Learning new steps for Lanigan's Ball.\\n\n",
        "Boys were all merry and the girls they were hearty\\n\n",
        "And danced all around in couples and groups,\\n\n",
        "'Til an accident happened, young Terrance McCarthy\\n\n",
        "Put his right leg through Miss Finnerty's hoops.\\n\n",
        "Poor creature fainted and cried, ``Meelia murther,''\\n\n",
        "Called for her brothers and gathered them all.\\n\n",
        "Carmody swore that he'd go no further\\n\n",
        "'Til he had satisfaction at Lanigan's Ball.\\n\n",
        "In the midst of the row miss Kerrigan fainted,\\n\n",
        "Her cheeks at the same time as red as a rose.\\n\n",
        "Some of the lads declared she was painted,\\n\n",
        "She took a small drop too much, I suppose.\\n\n",
        "Her sweetheart, Ned Morgan, so powerful and able,\\n\n",
        "When he saw his fair colleen stretched out by the wall,\\n\n",
        "Tore the left leg from under the table\\n\n",
        "And smashed all the Chaneys at Lanigan's Ball.\\n\n",
        "Boys, oh boys, 'twas then there were runctions.\\n\n",
        "Myself got a lick from big Phelim McHugh.\\n\n",
        "I soon replied to his introduction\\n\n",
        "And kicked up a terrible hullabaloo.\\n\n",
        "Ould Casey, the piper, was near being strangled.\\n\n",
        "They squeezed up his pipes, bellows, chanters and all.\\n\n",
        "The girls, in their ribbons, they got all entangled\\n\n",
        "And that put an end to Lanigan's Ball.'''\n",
        "corpus = data.lower().split(\"\\n\")\n",
        "tokenizer.fit_on_texts(corpus)\n",
        "total_words = len(tokenizer.word_index) + 1"
      ],
      "metadata": {
        "id": "lwlCrW1beJHW"
      },
      "execution_count": null,
      "outputs": []
    },
    {
      "cell_type": "code",
      "source": [
        "input_sequences = []\n",
        "for line in corpus:\n",
        "\ttoken_list = tokenizer.texts_to_sequences([line])[0]\n",
        "\tfor i in range(1, len(token_list)):\n",
        "\t\tn_gram_sequence = token_list[:i+1]\n",
        "\t\tinput_sequences.append(n_gram_sequence)\n",
        "\n",
        "# pad sequences\n",
        "max_sequence_len = max([len(x) for x in input_sequences])\n",
        "input_sequences = np.array(pad_sequences(input_sequences, maxlen=max_sequence_len, padding='pre'))\n",
        "\n",
        "# create predictors and label\n",
        "xs, labels = input_sequences[:,:-1],input_sequences[:,-1]\n",
        "\n",
        "ys = tf.keras.utils.to_categorical(labels, num_classes=total_words)"
      ],
      "metadata": {
        "id": "UWZu1ajWfVv9"
      },
      "execution_count": null,
      "outputs": []
    },
    {
      "cell_type": "code",
      "metadata": {
        "id": "pJtwVB2NbOAP",
        "colab": {
          "base_uri": "https://localhost:8080/"
        },
        "outputId": "bb33f2d9-36f0-46f9-b5a5-e84f0d8384b9"
      },
      "source": [
        "print(tokenizer.word_index['in'])\n",
        "print(tokenizer.word_index['the'])\n",
        "print(tokenizer.word_index['town'])\n",
        "print(tokenizer.word_index['of'])\n",
        "print(tokenizer.word_index['athy'])\n",
        "print(tokenizer.word_index['one'])\n",
        "print(tokenizer.word_index['jeremy'])\n",
        "print(tokenizer.word_index['lanigan'])"
      ],
      "execution_count": null,
      "outputs": [
        {
          "output_type": "stream",
          "name": "stdout",
          "text": [
            "6\n",
            "2\n",
            "53\n",
            "5\n",
            "54\n",
            "55\n",
            "56\n",
            "57\n"
          ]
        }
      ]
    },
    {
      "cell_type": "code",
      "metadata": {
        "id": "49Cv68JOakwv",
        "colab": {
          "base_uri": "https://localhost:8080/"
        },
        "outputId": "933a1c02-9b89-4002-f152-ef854c2a9b83"
      },
      "source": [
        "print(xs[6])"
      ],
      "execution_count": null,
      "outputs": [
        {
          "output_type": "stream",
          "name": "stdout",
          "text": [
            "[ 0  0  0  6  2 53  5 54 55 56]\n"
          ]
        }
      ]
    },
    {
      "cell_type": "code",
      "metadata": {
        "id": "iY-jwvfgbEF8",
        "colab": {
          "base_uri": "https://localhost:8080/"
        },
        "outputId": "5ce0fa76-e04f-4ad8-b49c-76c162e5a8a6"
      },
      "source": [
        "print(ys[6])"
      ],
      "execution_count": null,
      "outputs": [
        {
          "output_type": "stream",
          "name": "stdout",
          "text": [
            "[0. 0. 0. 0. 0. 0. 0. 0. 0. 0. 0. 0. 0. 0. 0. 0. 0. 0. 0. 0. 0. 0. 0. 0.\n",
            " 0. 0. 0. 0. 0. 0. 0. 0. 0. 0. 0. 0. 0. 0. 0. 0. 0. 0. 0. 0. 0. 0. 0. 0.\n",
            " 0. 0. 0. 0. 0. 0. 0. 0. 0. 1. 0. 0. 0. 0. 0. 0. 0. 0. 0. 0. 0. 0. 0. 0.\n",
            " 0. 0. 0. 0. 0. 0. 0. 0. 0. 0. 0. 0. 0. 0. 0. 0. 0. 0. 0. 0. 0. 0. 0. 0.\n",
            " 0. 0. 0. 0. 0. 0. 0. 0. 0. 0. 0. 0. 0. 0. 0. 0. 0. 0. 0. 0. 0. 0. 0. 0.\n",
            " 0. 0. 0. 0. 0. 0. 0. 0. 0. 0. 0. 0. 0. 0. 0. 0. 0. 0. 0. 0. 0. 0. 0. 0.\n",
            " 0. 0. 0. 0. 0. 0. 0. 0. 0. 0. 0. 0. 0. 0. 0. 0. 0. 0. 0. 0. 0. 0. 0. 0.\n",
            " 0. 0. 0. 0. 0. 0. 0. 0. 0. 0. 0. 0. 0. 0. 0. 0. 0. 0. 0. 0. 0. 0. 0. 0.\n",
            " 0. 0. 0. 0. 0. 0. 0. 0. 0. 0. 0. 0. 0. 0. 0. 0. 0. 0. 0. 0. 0. 0. 0. 0.\n",
            " 0. 0. 0. 0. 0. 0. 0. 0. 0. 0. 0. 0. 0. 0. 0. 0. 0. 0. 0. 0. 0. 0. 0. 0.\n",
            " 0. 0. 0. 0. 0. 0. 0. 0. 0. 0. 0. 0. 0. 0. 0. 0. 0. 0. 0. 0. 0. 0.]\n"
          ]
        }
      ]
    },
    {
      "cell_type": "code",
      "metadata": {
        "id": "wtzlUMYadhKt",
        "colab": {
          "base_uri": "https://localhost:8080/"
        },
        "outputId": "e630bc36-d6c1-41d2-cae5-c2386b72a845"
      },
      "source": [
        "print(xs[5])\n",
        "print(ys[5])"
      ],
      "execution_count": null,
      "outputs": [
        {
          "output_type": "stream",
          "name": "stdout",
          "text": [
            "[ 0  0  0  0  6  2 53  5 54 55]\n",
            "[0. 0. 0. 0. 0. 0. 0. 0. 0. 0. 0. 0. 0. 0. 0. 0. 0. 0. 0. 0. 0. 0. 0. 0.\n",
            " 0. 0. 0. 0. 0. 0. 0. 0. 0. 0. 0. 0. 0. 0. 0. 0. 0. 0. 0. 0. 0. 0. 0. 0.\n",
            " 0. 0. 0. 0. 0. 0. 0. 0. 1. 0. 0. 0. 0. 0. 0. 0. 0. 0. 0. 0. 0. 0. 0. 0.\n",
            " 0. 0. 0. 0. 0. 0. 0. 0. 0. 0. 0. 0. 0. 0. 0. 0. 0. 0. 0. 0. 0. 0. 0. 0.\n",
            " 0. 0. 0. 0. 0. 0. 0. 0. 0. 0. 0. 0. 0. 0. 0. 0. 0. 0. 0. 0. 0. 0. 0. 0.\n",
            " 0. 0. 0. 0. 0. 0. 0. 0. 0. 0. 0. 0. 0. 0. 0. 0. 0. 0. 0. 0. 0. 0. 0. 0.\n",
            " 0. 0. 0. 0. 0. 0. 0. 0. 0. 0. 0. 0. 0. 0. 0. 0. 0. 0. 0. 0. 0. 0. 0. 0.\n",
            " 0. 0. 0. 0. 0. 0. 0. 0. 0. 0. 0. 0. 0. 0. 0. 0. 0. 0. 0. 0. 0. 0. 0. 0.\n",
            " 0. 0. 0. 0. 0. 0. 0. 0. 0. 0. 0. 0. 0. 0. 0. 0. 0. 0. 0. 0. 0. 0. 0. 0.\n",
            " 0. 0. 0. 0. 0. 0. 0. 0. 0. 0. 0. 0. 0. 0. 0. 0. 0. 0. 0. 0. 0. 0. 0. 0.\n",
            " 0. 0. 0. 0. 0. 0. 0. 0. 0. 0. 0. 0. 0. 0. 0. 0. 0. 0. 0. 0. 0. 0.]\n"
          ]
        }
      ]
    },
    {
      "cell_type": "code",
      "metadata": {
        "id": "H4myRpB1c4Gg",
        "colab": {
          "base_uri": "https://localhost:8080/"
        },
        "outputId": "f3a3f2e1-4478-4e9d-f145-1644799c0091"
      },
      "source": [
        "print(tokenizer.word_index)"
      ],
      "execution_count": null,
      "outputs": [
        {
          "output_type": "stream",
          "name": "stdout",
          "text": [
            "{'and': 1, 'the': 2, 'a': 3, 'all': 4, 'of': 5, 'in': 6, \"lanigan's\": 7, 'ball': 8, 'for': 9, 'were': 10, 'to': 11, 'i': 12, 'at': 13, 'he': 14, 'his': 15, 'girls': 16, 'as': 17, 'they': 18, \"'til\": 19, 'got': 20, 'boys': 21, \"'round\": 22, 'that': 23, 'her': 24, 'there': 25, 'him': 26, 'she': 27, 'was': 28, 'away': 29, 'left': 30, 'friends': 31, 'relations': 32, 'when': 33, 'myself': 34, 'nice': 35, 'just': 36, 'dancing': 37, 'merry': 38, 'tipped': 39, 'me': 40, 'soon': 41, 'time': 42, 'their': 43, 'them': 44, 'danced': 45, 'an': 46, 'put': 47, 'leg': 48, 'miss': 49, 'fainted': 50, 'from': 51, 'up': 52, 'town': 53, 'athy': 54, 'one': 55, 'jeremy': 56, 'lanigan': 57, 'battered': 58, \"hadn't\": 59, 'pound': 60, 'father': 61, 'died': 62, 'made': 63, 'man': 64, 'again': 65, 'farm': 66, 'ten': 67, 'acres': 68, 'ground': 69, 'gave': 70, 'grand': 71, 'party': 72, 'who': 73, \"didn't\": 74, 'forget': 75, 'it': 76, 'comes': 77, 'will': 78, 'if': 79, \"you'll\": 80, 'but': 81, 'listen': 82, \"i'll\": 83, 'make': 84, 'your': 85, 'eyes': 86, 'glisten': 87, 'rows': 88, 'ructions': 89, 'be': 90, 'sure': 91, 'free': 92, 'invitation': 93, 'might': 94, 'ask': 95, 'minute': 96, 'both': 97, 'bees': 98, 'cask': 99, 'judy': 100, \"o'daly\": 101, 'little': 102, 'milliner': 103, 'wink': 104, 'give': 105, 'call': 106, 'arrived': 107, 'with': 108, 'peggy': 109, 'mcgilligan': 110, 'lashings': 111, 'punch': 112, 'wine': 113, 'ladies': 114, 'potatoes': 115, 'cakes': 116, 'bacon': 117, 'tea': 118, 'nolans': 119, 'dolans': 120, \"o'gradys\": 121, 'courting': 122, 'songs': 123, 'went': 124, 'plenty': 125, 'water': 126, 'harp': 127, 'once': 128, 'sounded': 129, \"tara's\": 130, 'old': 131, 'hall': 132, 'sweet': 133, 'nelly': 134, 'gray': 135, 'rat': 136, \"catcher's\": 137, 'daughter': 138, 'singing': 139, 'together': 140, 'doing': 141, 'kinds': 142, 'nonsensical': 143, 'polkas': 144, 'room': 145, 'whirligig': 146, 'julia': 147, 'we': 148, 'banished': 149, 'nonsense': 150, 'twist': 151, 'reel': 152, 'jig': 153, \"'och\": 154, 'mavrone': 155, 'how': 156, 'mad': 157, \"you'd\": 158, 'think': 159, 'ceiling': 160, 'would': 161, 'fall': 162, 'spent': 163, 'three': 164, 'weeks': 165, \"brooks'\": 166, 'academy': 167, 'learning': 168, 'new': 169, 'steps': 170, 'hearty': 171, 'around': 172, 'couples': 173, 'groups': 174, 'accident': 175, 'happened': 176, 'young': 177, 'terrance': 178, 'mccarthy': 179, 'right': 180, 'through': 181, \"finnerty's\": 182, 'hoops': 183, 'poor': 184, 'creature': 185, 'cried': 186, 'meelia': 187, 'murther': 188, \"''\": 189, 'called': 190, 'brothers': 191, 'gathered': 192, 'carmody': 193, 'swore': 194, \"he'd\": 195, 'go': 196, 'no': 197, 'further': 198, 'had': 199, 'satisfaction': 200, 'midst': 201, 'row': 202, 'kerrigan': 203, 'cheeks': 204, 'same': 205, 'red': 206, 'rose': 207, 'some': 208, 'lads': 209, 'declared': 210, 'painted': 211, 'took': 212, 'small': 213, 'drop': 214, 'too': 215, 'much': 216, 'suppose': 217, 'sweetheart': 218, 'ned': 219, 'morgan': 220, 'so': 221, 'powerful': 222, 'able': 223, 'saw': 224, 'fair': 225, 'colleen': 226, 'stretched': 227, 'out': 228, 'by': 229, 'wall': 230, 'tore': 231, 'under': 232, 'table': 233, 'smashed': 234, 'chaneys': 235, 'oh': 236, \"'twas\": 237, 'then': 238, 'runctions': 239, 'lick': 240, 'big': 241, 'phelim': 242, 'mchugh': 243, 'replied': 244, 'introduction': 245, 'kicked': 246, 'terrible': 247, 'hullabaloo': 248, 'ould': 249, 'casey': 250, 'piper': 251, 'near': 252, 'being': 253, 'strangled': 254, 'squeezed': 255, 'pipes': 256, 'bellows': 257, 'chanters': 258, 'ribbons': 259, 'entangled': 260, 'end': 261}\n"
          ]
        }
      ]
    },
    {
      "cell_type": "code",
      "metadata": {
        "id": "w9vH8Y59ajYL",
        "colab": {
          "base_uri": "https://localhost:8080/"
        },
        "outputId": "ccfe54ba-2544-4b3d-f9de-512a241851c1"
      },
      "source": [
        "model = tf.keras.Sequential()\n",
        "model.add(tf.keras.layers.Embedding(total_words, 100, input_length=max_sequence_len-1))\n",
        "model.add(tf.keras.layers.Bidirectional(tf.keras.layers.LSTM(150)))\n",
        "model.add(tf.keras.layers.Dense(total_words, activation='softmax'))\n",
        "adam = Adam(lr=0.01)\n",
        "model.compile(loss='categorical_crossentropy', optimizer=adam, metrics=['accuracy'])\n",
        "#earlystop = EarlyStopping(monitor='val_loss', min_delta=0, patience=5, verbose=0, mode='auto')\n",
        "history = model.fit(xs, ys, epochs=100, verbose=1)\n",
        "#print model.summary()\n",
        "print(model)\n"
      ],
      "execution_count": null,
      "outputs": [
        {
          "output_type": "stream",
          "name": "stderr",
          "text": [
            "WARNING:absl:`lr` is deprecated in Keras optimizer, please use `learning_rate` or use the legacy optimizer, e.g.,tf.keras.optimizers.legacy.Adam.\n"
          ]
        },
        {
          "output_type": "stream",
          "name": "stdout",
          "text": [
            "Epoch 1/100\n",
            "13/13 [==============================] - 6s 133ms/step - loss: 5.5527 - accuracy: 0.0273\n",
            "Epoch 2/100\n",
            "13/13 [==============================] - 1s 84ms/step - loss: 5.3549 - accuracy: 0.0596\n",
            "Epoch 3/100\n",
            "13/13 [==============================] - 1s 106ms/step - loss: 5.1340 - accuracy: 0.0670\n",
            "Epoch 4/100\n",
            "13/13 [==============================] - 1s 58ms/step - loss: 5.0758 - accuracy: 0.0571\n",
            "Epoch 5/100\n",
            "13/13 [==============================] - 1s 45ms/step - loss: 5.0143 - accuracy: 0.0571\n",
            "Epoch 6/100\n",
            "13/13 [==============================] - 0s 20ms/step - loss: 4.9102 - accuracy: 0.0645\n",
            "Epoch 7/100\n",
            "13/13 [==============================] - 1s 45ms/step - loss: 4.8222 - accuracy: 0.0645\n",
            "Epoch 8/100\n",
            "13/13 [==============================] - 0s 7ms/step - loss: 4.6963 - accuracy: 0.0645\n",
            "Epoch 9/100\n",
            "13/13 [==============================] - 0s 20ms/step - loss: 4.5678 - accuracy: 0.0720\n",
            "Epoch 10/100\n",
            "13/13 [==============================] - 1s 45ms/step - loss: 4.4525 - accuracy: 0.0794\n",
            "Epoch 11/100\n",
            "13/13 [==============================] - 0s 32ms/step - loss: 4.3039 - accuracy: 0.0993\n",
            "Epoch 12/100\n",
            "13/13 [==============================] - 0s 8ms/step - loss: 4.1808 - accuracy: 0.1067\n",
            "Epoch 13/100\n",
            "13/13 [==============================] - 0s 8ms/step - loss: 4.0162 - accuracy: 0.1216\n",
            "Epoch 14/100\n",
            "13/13 [==============================] - 0s 8ms/step - loss: 3.8504 - accuracy: 0.1315\n",
            "Epoch 15/100\n",
            "13/13 [==============================] - 0s 20ms/step - loss: 3.7084 - accuracy: 0.1588\n",
            "Epoch 16/100\n",
            "13/13 [==============================] - 0s 20ms/step - loss: 3.5514 - accuracy: 0.1811\n",
            "Epoch 17/100\n",
            "13/13 [==============================] - 0s 19ms/step - loss: 3.3668 - accuracy: 0.2159\n",
            "Epoch 18/100\n",
            "13/13 [==============================] - 0s 8ms/step - loss: 3.2001 - accuracy: 0.2581\n",
            "Epoch 19/100\n",
            "13/13 [==============================] - 0s 8ms/step - loss: 3.0348 - accuracy: 0.3102\n",
            "Epoch 20/100\n",
            "13/13 [==============================] - 0s 19ms/step - loss: 2.9130 - accuracy: 0.2978\n",
            "Epoch 21/100\n",
            "13/13 [==============================] - 0s 20ms/step - loss: 2.7257 - accuracy: 0.3896\n",
            "Epoch 22/100\n",
            "13/13 [==============================] - 0s 19ms/step - loss: 2.5781 - accuracy: 0.4020\n",
            "Epoch 23/100\n",
            "13/13 [==============================] - 0s 21ms/step - loss: 2.4585 - accuracy: 0.4392\n",
            "Epoch 24/100\n",
            "13/13 [==============================] - 0s 7ms/step - loss: 2.3405 - accuracy: 0.4615\n",
            "Epoch 25/100\n",
            "13/13 [==============================] - 0s 11ms/step - loss: 2.2088 - accuracy: 0.5236\n",
            "Epoch 26/100\n",
            "13/13 [==============================] - 0s 29ms/step - loss: 2.0843 - accuracy: 0.5558\n",
            "Epoch 27/100\n",
            "13/13 [==============================] - 0s 31ms/step - loss: 1.9485 - accuracy: 0.5707\n",
            "Epoch 28/100\n",
            "13/13 [==============================] - 1s 51ms/step - loss: 1.8584 - accuracy: 0.5931\n",
            "Epoch 29/100\n",
            "13/13 [==============================] - 0s 11ms/step - loss: 1.7582 - accuracy: 0.6203\n",
            "Epoch 30/100\n",
            "13/13 [==============================] - 0s 14ms/step - loss: 1.7305 - accuracy: 0.6203\n",
            "Epoch 31/100\n",
            "13/13 [==============================] - 0s 31ms/step - loss: 1.6676 - accuracy: 0.6377\n",
            "Epoch 32/100\n",
            "13/13 [==============================] - 0s 11ms/step - loss: 1.5747 - accuracy: 0.6476\n",
            "Epoch 33/100\n",
            "13/13 [==============================] - 0s 10ms/step - loss: 1.4748 - accuracy: 0.6700\n",
            "Epoch 34/100\n",
            "13/13 [==============================] - 0s 11ms/step - loss: 1.3842 - accuracy: 0.7072\n",
            "Epoch 35/100\n",
            "13/13 [==============================] - 0s 11ms/step - loss: 1.2990 - accuracy: 0.7295\n",
            "Epoch 36/100\n",
            "13/13 [==============================] - 0s 22ms/step - loss: 1.2578 - accuracy: 0.7097\n",
            "Epoch 37/100\n",
            "13/13 [==============================] - 0s 21ms/step - loss: 1.1757 - accuracy: 0.7717\n",
            "Epoch 38/100\n",
            "13/13 [==============================] - 0s 7ms/step - loss: 1.1390 - accuracy: 0.7568\n",
            "Epoch 39/100\n",
            "13/13 [==============================] - 0s 8ms/step - loss: 1.0663 - accuracy: 0.7767\n",
            "Epoch 40/100\n",
            "13/13 [==============================] - 0s 8ms/step - loss: 1.0091 - accuracy: 0.7990\n",
            "Epoch 41/100\n",
            "13/13 [==============================] - 0s 8ms/step - loss: 0.9573 - accuracy: 0.8089\n",
            "Epoch 42/100\n",
            "13/13 [==============================] - 0s 9ms/step - loss: 0.9184 - accuracy: 0.8263\n",
            "Epoch 43/100\n",
            "13/13 [==============================] - 0s 19ms/step - loss: 0.8733 - accuracy: 0.8412\n",
            "Epoch 44/100\n",
            "13/13 [==============================] - 0s 8ms/step - loss: 0.8359 - accuracy: 0.8536\n",
            "Epoch 45/100\n",
            "13/13 [==============================] - 0s 7ms/step - loss: 0.8174 - accuracy: 0.8462\n",
            "Epoch 46/100\n",
            "13/13 [==============================] - 0s 7ms/step - loss: 0.7742 - accuracy: 0.8511\n",
            "Epoch 47/100\n",
            "13/13 [==============================] - 0s 7ms/step - loss: 0.7512 - accuracy: 0.8561\n",
            "Epoch 48/100\n",
            "13/13 [==============================] - 0s 7ms/step - loss: 0.7355 - accuracy: 0.8660\n",
            "Epoch 49/100\n",
            "13/13 [==============================] - 0s 7ms/step - loss: 0.7190 - accuracy: 0.8685\n",
            "Epoch 50/100\n",
            "13/13 [==============================] - 0s 8ms/step - loss: 0.6806 - accuracy: 0.8734\n",
            "Epoch 51/100\n",
            "13/13 [==============================] - 0s 21ms/step - loss: 0.6496 - accuracy: 0.8710\n",
            "Epoch 52/100\n",
            "13/13 [==============================] - 0s 8ms/step - loss: 0.6053 - accuracy: 0.9032\n",
            "Epoch 53/100\n",
            "13/13 [==============================] - 0s 7ms/step - loss: 0.5746 - accuracy: 0.9007\n",
            "Epoch 54/100\n",
            "13/13 [==============================] - 0s 7ms/step - loss: 0.5538 - accuracy: 0.9032\n",
            "Epoch 55/100\n",
            "13/13 [==============================] - 0s 7ms/step - loss: 0.5355 - accuracy: 0.9032\n",
            "Epoch 56/100\n",
            "13/13 [==============================] - 0s 7ms/step - loss: 0.5086 - accuracy: 0.9156\n",
            "Epoch 57/100\n",
            "13/13 [==============================] - 0s 7ms/step - loss: 0.4946 - accuracy: 0.9156\n",
            "Epoch 58/100\n",
            "13/13 [==============================] - 0s 9ms/step - loss: 0.4792 - accuracy: 0.9107\n",
            "Epoch 59/100\n",
            "13/13 [==============================] - 0s 8ms/step - loss: 0.4572 - accuracy: 0.9181\n",
            "Epoch 60/100\n",
            "13/13 [==============================] - 0s 7ms/step - loss: 0.4361 - accuracy: 0.9231\n",
            "Epoch 61/100\n",
            "13/13 [==============================] - 0s 7ms/step - loss: 0.4106 - accuracy: 0.9305\n",
            "Epoch 62/100\n",
            "13/13 [==============================] - 0s 7ms/step - loss: 0.3913 - accuracy: 0.9305\n",
            "Epoch 63/100\n",
            "13/13 [==============================] - 0s 7ms/step - loss: 0.3855 - accuracy: 0.9256\n",
            "Epoch 64/100\n",
            "13/13 [==============================] - 0s 7ms/step - loss: 0.3678 - accuracy: 0.9355\n",
            "Epoch 65/100\n",
            "13/13 [==============================] - 0s 7ms/step - loss: 0.3578 - accuracy: 0.9380\n",
            "Epoch 66/100\n",
            "13/13 [==============================] - 0s 7ms/step - loss: 0.3379 - accuracy: 0.9380\n",
            "Epoch 67/100\n",
            "13/13 [==============================] - 0s 22ms/step - loss: 0.3206 - accuracy: 0.9330\n",
            "Epoch 68/100\n",
            "13/13 [==============================] - 0s 8ms/step - loss: 0.3200 - accuracy: 0.9454\n",
            "Epoch 69/100\n",
            "13/13 [==============================] - 0s 7ms/step - loss: 0.3181 - accuracy: 0.9380\n",
            "Epoch 70/100\n",
            "13/13 [==============================] - 0s 8ms/step - loss: 0.3174 - accuracy: 0.9380\n",
            "Epoch 71/100\n",
            "13/13 [==============================] - 0s 7ms/step - loss: 0.3073 - accuracy: 0.9280\n",
            "Epoch 72/100\n",
            "13/13 [==============================] - 0s 7ms/step - loss: 0.2864 - accuracy: 0.9355\n",
            "Epoch 73/100\n",
            "13/13 [==============================] - 0s 7ms/step - loss: 0.2844 - accuracy: 0.9454\n",
            "Epoch 74/100\n",
            "13/13 [==============================] - 0s 7ms/step - loss: 0.2716 - accuracy: 0.9429\n",
            "Epoch 75/100\n",
            "13/13 [==============================] - 0s 7ms/step - loss: 0.2653 - accuracy: 0.9380\n",
            "Epoch 76/100\n",
            "13/13 [==============================] - 0s 10ms/step - loss: 0.2544 - accuracy: 0.9454\n",
            "Epoch 77/100\n",
            "13/13 [==============================] - 0s 8ms/step - loss: 0.2390 - accuracy: 0.9429\n",
            "Epoch 78/100\n",
            "13/13 [==============================] - 0s 7ms/step - loss: 0.2265 - accuracy: 0.9504\n",
            "Epoch 79/100\n",
            "13/13 [==============================] - 0s 7ms/step - loss: 0.2193 - accuracy: 0.9479\n",
            "Epoch 80/100\n",
            "13/13 [==============================] - 0s 8ms/step - loss: 0.2134 - accuracy: 0.9504\n",
            "Epoch 81/100\n",
            "13/13 [==============================] - 0s 7ms/step - loss: 0.2095 - accuracy: 0.9504\n",
            "Epoch 82/100\n",
            "13/13 [==============================] - 0s 7ms/step - loss: 0.2017 - accuracy: 0.9454\n",
            "Epoch 83/100\n",
            "13/13 [==============================] - 0s 7ms/step - loss: 0.1978 - accuracy: 0.9429\n",
            "Epoch 84/100\n",
            "13/13 [==============================] - 0s 7ms/step - loss: 0.1911 - accuracy: 0.9479\n",
            "Epoch 85/100\n",
            "13/13 [==============================] - 0s 8ms/step - loss: 0.1925 - accuracy: 0.9479\n",
            "Epoch 86/100\n",
            "13/13 [==============================] - 0s 8ms/step - loss: 0.1867 - accuracy: 0.9454\n",
            "Epoch 87/100\n",
            "13/13 [==============================] - 0s 8ms/step - loss: 0.1883 - accuracy: 0.9529\n",
            "Epoch 88/100\n",
            "13/13 [==============================] - 0s 7ms/step - loss: 0.1824 - accuracy: 0.9479\n",
            "Epoch 89/100\n",
            "13/13 [==============================] - 0s 8ms/step - loss: 0.1771 - accuracy: 0.9479\n",
            "Epoch 90/100\n",
            "13/13 [==============================] - 0s 7ms/step - loss: 0.1731 - accuracy: 0.9454\n",
            "Epoch 91/100\n",
            "13/13 [==============================] - 0s 7ms/step - loss: 0.1692 - accuracy: 0.9454\n",
            "Epoch 92/100\n",
            "13/13 [==============================] - 0s 7ms/step - loss: 0.1629 - accuracy: 0.9504\n",
            "Epoch 93/100\n",
            "13/13 [==============================] - 0s 7ms/step - loss: 0.1607 - accuracy: 0.9504\n",
            "Epoch 94/100\n",
            "13/13 [==============================] - 0s 7ms/step - loss: 0.1593 - accuracy: 0.9454\n",
            "Epoch 95/100\n",
            "13/13 [==============================] - 0s 10ms/step - loss: 0.1540 - accuracy: 0.9529\n",
            "Epoch 96/100\n",
            "13/13 [==============================] - 0s 8ms/step - loss: 0.1505 - accuracy: 0.9454\n",
            "Epoch 97/100\n",
            "13/13 [==============================] - 0s 8ms/step - loss: 0.1485 - accuracy: 0.9504\n",
            "Epoch 98/100\n",
            "13/13 [==============================] - 0s 7ms/step - loss: 0.1476 - accuracy: 0.9504\n",
            "Epoch 99/100\n",
            "13/13 [==============================] - 0s 7ms/step - loss: 0.1464 - accuracy: 0.9479\n",
            "Epoch 100/100\n",
            "13/13 [==============================] - 0s 7ms/step - loss: 0.1550 - accuracy: 0.9479\n",
            "<keras.src.engine.sequential.Sequential object at 0x7e4c100b5420>\n"
          ]
        }
      ]
    },
    {
      "cell_type": "code",
      "metadata": {
        "id": "3YXGelKThoTT"
      },
      "source": [
        "import matplotlib.pyplot as plt\n",
        "\n",
        "\n",
        "def plot_graphs(history, string):\n",
        "  plt.plot(history.history[string])\n",
        "  plt.xlabel(\"Epochs\")\n",
        "  plt.ylabel(string)\n",
        "  plt.show()"
      ],
      "execution_count": null,
      "outputs": []
    },
    {
      "cell_type": "code",
      "metadata": {
        "id": "poeprYK8h-c7",
        "colab": {
          "base_uri": "https://localhost:8080/",
          "height": 449
        },
        "outputId": "cd4763f4-53bf-423e-e9da-64bcbc40c1c5"
      },
      "source": [
        "plot_graphs(history, 'accuracy')\n"
      ],
      "execution_count": null,
      "outputs": [
        {
          "output_type": "display_data",
          "data": {
            "text/plain": [
              "<Figure size 640x480 with 1 Axes>"
            ],
            "image/png": "[encoded data removed]"
          },
          "metadata": {}
        }
      ]
    },
    {
      "cell_type": "code",
      "metadata": {
        "id": "6Vc6PHgxa6Hm",
        "colab": {
          "base_uri": "https://localhost:8080/"
        },
        "outputId": "1989d52b-778b-424c-bf3a-9eb4cd5f55ea"
      },
      "source": [
        "seed_text = \"I've got a bad feeling about this\"\n",
        "next_words = 10\n",
        "\n",
        "for _ in range(next_words):\n",
        "\ttoken_list = tokenizer.texts_to_sequences([seed_text])[0]\n",
        "\ttoken_list = pad_sequences([token_list], maxlen=max_sequence_len-1, padding='pre')\n",
        "\tpredicted = np.argmax(model.predict(token_list), axis=-1)\n",
        "\toutput_word = \"\"\n",
        "\tfor word, index in tokenizer.word_index.items():\n",
        "\t\tif index == predicted:\n",
        "\t\t\toutput_word = word\n",
        "\t\t\tbreak\n",
        "\tseed_text += \" \" + output_word\n",
        "print(seed_text)"
      ],
      "execution_count": null,
      "outputs": [
        {
          "output_type": "stream",
          "name": "stdout",
          "text": [
            "1/1 [==============================] - 1s 804ms/step\n",
            "1/1 [==============================] - 0s 27ms/step\n",
            "1/1 [==============================] - 0s 30ms/step\n",
            "1/1 [==============================] - 0s 27ms/step\n",
            "1/1 [==============================] - 0s 27ms/step\n",
            "1/1 [==============================] - 0s 32ms/step\n",
            "1/1 [==============================] - 0s 25ms/step\n",
            "1/1 [==============================] - 0s 25ms/step\n",
            "1/1 [==============================] - 0s 28ms/step\n",
            "1/1 [==============================] - 0s 32ms/step\n",
            "I've got a bad feeling about this put an terrible hullabaloo finnerty's mchugh suppose again wall doing\n"
          ]
        }
      ]
    }
  ]
}